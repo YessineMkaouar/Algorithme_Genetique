{
 "cells": [
  {
   "cell_type": "code",
   "execution_count": 4,
   "metadata": {},
   "outputs": [
    {
     "data": {
      "text/plain": [
       "['-',\n",
       " '2',\n",
       " '+',\n",
       " '3',\n",
       " '+',\n",
       " '-4',\n",
       " '+',\n",
       " '8',\n",
       " '-',\n",
       " '12',\n",
       " '-',\n",
       " '22',\n",
       " '-',\n",
       " '9',\n",
       " '+',\n",
       " '31',\n",
       " '+',\n",
       " '24',\n",
       " '+',\n",
       " '-17']"
      ]
     },
     "execution_count": 4,
     "metadata": {},
     "output_type": "execute_result"
    }
   ],
   "source": [
    "def run_genetic_algorithm():\n",
    "    import subprocess\n",
    "    output = subprocess.check_output([\"./program_for_interface\"]) #Lire l'output du main_interface\n",
    "    best = output.decode('utf-8').split() # Convertir l'output en liste\n",
    "    return best\n",
    "b=run_genetic_algorithm()\n",
    "b"
   ]
  },
  {
   "cell_type": "code",
   "execution_count": 3,
   "metadata": {},
   "outputs": [],
   "source": [
    "def create_file(L: list, nbr_population: int, nbr_iteration: int):\n",
    "    with open(\"test0.txt\", \"w\") as f:\n",
    "        f.write(str(nbr_population) + \"\\n\")\n",
    "        f.write(str(nbr_iteration) + \"\\n\")\n",
    "        f.write(str(len(L)) + \"\\n\")\n",
    "        f.write(\" \".join(map(str, L)))"
   ]
  },
  {
   "cell_type": "code",
   "execution_count": 5,
   "metadata": {},
   "outputs": [
    {
     "data": {
      "text/plain": [
       "'-2+3-4+8-12-22-9+31+24-17'"
      ]
     },
     "execution_count": 5,
     "metadata": {},
     "output_type": "execute_result"
    }
   ],
   "source": [
    "def generate_sequence(L):\n",
    "    res = ''.join(L)\n",
    "    res = res.replace('--', '+')  # remplace les '--' par des '+'\n",
    "    res = res.replace('+-', '-')  # remplace les '+-' par des '-'\n",
    "    if res.startswith('+'):  # vérifie si la chaîne commence par '+'\n",
    "        res = res[1:]  # supprime le premier caractère s'il est '+'\n",
    "    return res\n",
    "generate_sequence(b)"
   ]
  },
  {
   "cell_type": "code",
   "execution_count": 23,
   "metadata": {},
   "outputs": [],
   "source": [
    "def calculate_sum(L):\n",
    "    # Initialiser le signe courant et la somme courante\n",
    "    signe = '+'\n",
    "    somme = 0\n",
    "    \n",
    "    # Itérer à travers la liste\n",
    "    for item in L:\n",
    "        print(item)\n",
    "        # Vérifier si l'élément est un signe\n",
    "        if item in ('+', '-'):\n",
    "            # Mettre à jour le signe courant\n",
    "            signe = item\n",
    "        else:\n",
    "            # Convertir l'élément en nombre entier\n",
    "            nombre = int(item)\n",
    "            # Ajouter ou soustraire de la somme courante en fonction du signe courant\n",
    "            if signe == '+':\n",
    "                somme += nombre\n",
    "            else:\n",
    "                somme -= nombre\n",
    "    \n",
    "    # Renvoyer la somme finale\n",
    "    return somme"
   ]
  },
  {
   "cell_type": "code",
   "execution_count": 6,
   "metadata": {},
   "outputs": [
    {
     "data": {
      "text/plain": [
       "['+',\n",
       " '-1',\n",
       " '+',\n",
       " '-2',\n",
       " '+',\n",
       " '3',\n",
       " '-',\n",
       " '4',\n",
       " '-',\n",
       " '6',\n",
       " '+',\n",
       " '7',\n",
       " '-',\n",
       " '8',\n",
       " '-',\n",
       " '11',\n",
       " '-',\n",
       " '-22']"
      ]
     },
     "execution_count": 6,
     "metadata": {},
     "output_type": "execute_result"
    }
   ],
   "source": [
    "import time\n",
    "create_file(L = [\"-1\",\"-2\",\"3\",\"4\",\"15\",\"6\",\"7\",\"8\",\"11\",\"-22\"],nbr_population = 100, nbr_iteration = 4)\n",
    "run_genetic_algorithm()"
   ]
  },
  {
   "cell_type": "code",
   "execution_count": 35,
   "metadata": {},
   "outputs": [
    {
     "data": {
      "text/plain": [
       "[2, 3, 7]"
      ]
     },
     "execution_count": 35,
     "metadata": {},
     "output_type": "execute_result"
    }
   ],
   "source": [
    "L = []\n",
    "ch='2 3 7'\n",
    "L=ch.split()\n",
    "L = [int(x) for x in L]\n",
    "L"
   ]
  },
  {
   "cell_type": "code",
   "execution_count": 41,
   "metadata": {},
   "outputs": [
    {
     "ename": "CalledProcessError",
     "evalue": "Command '['./program_for_interface']' died with <Signals.SIGSEGV: 11>.",
     "output_type": "error",
     "traceback": [
      "\u001b[0;31m---------------------------------------------------------------------------\u001b[0m",
      "\u001b[0;31mCalledProcessError\u001b[0m                        Traceback (most recent call last)",
      "Cell \u001b[0;32mIn [41], line 2\u001b[0m\n\u001b[1;32m      1\u001b[0m create_file(L \u001b[39m=\u001b[39m L,nbr_population \u001b[39m=\u001b[39m \u001b[39m2\u001b[39m, nbr_iteration \u001b[39m=\u001b[39m \u001b[39m10\u001b[39m)\n\u001b[0;32m----> 2\u001b[0m response \u001b[39m=\u001b[39m run_genetic_algorithm()\n\u001b[1;32m      3\u001b[0m response\n",
      "Cell \u001b[0;32mIn [2], line 3\u001b[0m, in \u001b[0;36mrun_genetic_algorithm\u001b[0;34m()\u001b[0m\n\u001b[1;32m      1\u001b[0m \u001b[39mdef\u001b[39;00m \u001b[39mrun_genetic_algorithm\u001b[39m():\n\u001b[1;32m      2\u001b[0m     \u001b[39mimport\u001b[39;00m \u001b[39msubprocess\u001b[39;00m\n\u001b[0;32m----> 3\u001b[0m     output \u001b[39m=\u001b[39m subprocess\u001b[39m.\u001b[39;49mcheck_output([\u001b[39m\"\u001b[39;49m\u001b[39m./program_for_interface\u001b[39;49m\u001b[39m\"\u001b[39;49m]) \u001b[39m#Lire l'output du main_interface\u001b[39;00m\n\u001b[1;32m      4\u001b[0m     best \u001b[39m=\u001b[39m output\u001b[39m.\u001b[39mdecode(\u001b[39m'\u001b[39m\u001b[39mutf-8\u001b[39m\u001b[39m'\u001b[39m)\u001b[39m.\u001b[39msplit() \u001b[39m# Convertir l'output en liste\u001b[39;00m\n\u001b[1;32m      5\u001b[0m     \u001b[39mreturn\u001b[39;00m best\n",
      "File \u001b[0;32m/usr/lib/python3.10/subprocess.py:420\u001b[0m, in \u001b[0;36mcheck_output\u001b[0;34m(timeout, *popenargs, **kwargs)\u001b[0m\n\u001b[1;32m    417\u001b[0m         empty \u001b[39m=\u001b[39m \u001b[39mb\u001b[39m\u001b[39m'\u001b[39m\u001b[39m'\u001b[39m\n\u001b[1;32m    418\u001b[0m     kwargs[\u001b[39m'\u001b[39m\u001b[39minput\u001b[39m\u001b[39m'\u001b[39m] \u001b[39m=\u001b[39m empty\n\u001b[0;32m--> 420\u001b[0m \u001b[39mreturn\u001b[39;00m run(\u001b[39m*\u001b[39;49mpopenargs, stdout\u001b[39m=\u001b[39;49mPIPE, timeout\u001b[39m=\u001b[39;49mtimeout, check\u001b[39m=\u001b[39;49m\u001b[39mTrue\u001b[39;49;00m,\n\u001b[1;32m    421\u001b[0m            \u001b[39m*\u001b[39;49m\u001b[39m*\u001b[39;49mkwargs)\u001b[39m.\u001b[39mstdout\n",
      "File \u001b[0;32m/usr/lib/python3.10/subprocess.py:524\u001b[0m, in \u001b[0;36mrun\u001b[0;34m(input, capture_output, timeout, check, *popenargs, **kwargs)\u001b[0m\n\u001b[1;32m    522\u001b[0m     retcode \u001b[39m=\u001b[39m process\u001b[39m.\u001b[39mpoll()\n\u001b[1;32m    523\u001b[0m     \u001b[39mif\u001b[39;00m check \u001b[39mand\u001b[39;00m retcode:\n\u001b[0;32m--> 524\u001b[0m         \u001b[39mraise\u001b[39;00m CalledProcessError(retcode, process\u001b[39m.\u001b[39margs,\n\u001b[1;32m    525\u001b[0m                                  output\u001b[39m=\u001b[39mstdout, stderr\u001b[39m=\u001b[39mstderr)\n\u001b[1;32m    526\u001b[0m \u001b[39mreturn\u001b[39;00m CompletedProcess(process\u001b[39m.\u001b[39margs, retcode, stdout, stderr)\n",
      "\u001b[0;31mCalledProcessError\u001b[0m: Command '['./program_for_interface']' died with <Signals.SIGSEGV: 11>."
     ]
    }
   ],
   "source": [
    "create_file(L = L,nbr_population = 2, nbr_iteration = 10)\n",
    "response = run_genetic_algorithm()\n",
    "response\n"
   ]
  },
  {
   "cell_type": "code",
   "execution_count": 30,
   "metadata": {},
   "outputs": [
    {
     "data": {
      "text/plain": [
       "'-30+12-1+2-6+7-8+9-2+4+13'"
      ]
     },
     "execution_count": 30,
     "metadata": {},
     "output_type": "execute_result"
    }
   ],
   "source": [
    "solution = generate_sequence(response)\n",
    "solution"
   ]
  },
  {
   "cell_type": "code",
   "execution_count": 31,
   "metadata": {},
   "outputs": [
    {
     "data": {
      "text/plain": [
       "'-30+12-1+2-6+7-8+9-2+4+13'"
      ]
     },
     "execution_count": 31,
     "metadata": {},
     "output_type": "execute_result"
    }
   ],
   "source": [
    "\" \".join(solution)\n",
    "solution"
   ]
  },
  {
   "cell_type": "code",
   "execution_count": 5,
   "metadata": {},
   "outputs": [
    {
     "name": "stdout",
     "output_type": "stream",
     "text": [
      "Nombre d'entiers dans la chaîne : 11\n"
     ]
    }
   ],
   "source": [
    "chaine = '2+3-4+8-12-+22-9+31+24-17+15'\n",
    "\n",
    "compteur = 0\n",
    "nombre_temporaire = ''\n",
    "\n",
    "for caractere in chaine:\n",
    "    if caractere.isdigit() or (caractere == '-' and nombre_temporaire == ''):\n",
    "        nombre_temporaire += caractere\n",
    "    elif nombre_temporaire:\n",
    "        compteur += 1\n",
    "        nombre_temporaire = ''\n",
    "\n",
    "# Vérification pour le dernier nombre dans la chaîne\n",
    "if nombre_temporaire:\n",
    "    compteur += 1\n",
    "\n",
    "print(\"Nombre d'entiers dans la chaîne :\", compteur)\n"
   ]
  },
  {
   "cell_type": "code",
   "execution_count": 6,
   "metadata": {},
   "outputs": [
    {
     "name": "stdout",
     "output_type": "stream",
     "text": [
      "Nombre d'entiers dans la liste : 10\n"
     ]
    }
   ],
   "source": [
    "liste = ['-', '2', '+', '3', '+', '-4', '+', '8', '-', '12', '-', '22', '-', '9', '+', '31', '+', '24', '+', '-17']\n",
    "\n",
    "compteur = 0\n",
    "for element in liste:\n",
    "    if element.isdigit() or (element[0] == '-' and element[1:].isdigit()):\n",
    "        compteur += 1\n",
    "\n",
    "print(\"Nombre d'entiers dans la liste :\", compteur)\n"
   ]
  }
 ],
 "metadata": {
  "kernelspec": {
   "display_name": "Python 3.10.7 64-bit",
   "language": "python",
   "name": "python3"
  },
  "language_info": {
   "codemirror_mode": {
    "name": "ipython",
    "version": 3
   },
   "file_extension": ".py",
   "mimetype": "text/x-python",
   "name": "python",
   "nbconvert_exporter": "python",
   "pygments_lexer": "ipython3",
   "version": "3.10.7"
  },
  "orig_nbformat": 4,
  "vscode": {
   "interpreter": {
    "hash": "e7370f93d1d0cde622a1f8e1c04877d8463912d04d973331ad4851f04de6915a"
   }
  }
 },
 "nbformat": 4,
 "nbformat_minor": 2
}
