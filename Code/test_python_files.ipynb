{
 "cells": [
  {
   "cell_type": "code",
   "execution_count": 1,
   "metadata": {},
   "outputs": [],
   "source": [
    "def run_genetic_algorithm():\n",
    "    import subprocess\n",
    "    output = subprocess.check_output([\"./program_for_interface\"]) #Lire l'output du main_interface\n",
    "    best = output.decode('utf-8').split() # Convertir l'output en liste\n",
    "    return best"
   ]
  },
  {
   "cell_type": "code",
   "execution_count": 3,
   "metadata": {},
   "outputs": [],
   "source": [
    "def create_file(L: list, nbr_population: int, nbr_iteration: int):\n",
    "    with open(\"test0.txt\", \"w\") as f:\n",
    "        f.write(str(nbr_population) + \"\\n\")\n",
    "        f.write(str(nbr_iteration) + \"\\n\")\n",
    "        f.write(str(len(L)) + \"\\n\")\n",
    "        f.write(\" \".join(map(str, L)))"
   ]
  },
  {
   "cell_type": "code",
   "execution_count": 5,
   "metadata": {},
   "outputs": [
    {
     "data": {
      "text/plain": [
       "['+',\n",
       " '-1',\n",
       " '+',\n",
       " '-2',\n",
       " '+',\n",
       " '3',\n",
       " '-',\n",
       " '4',\n",
       " '-',\n",
       " '5',\n",
       " '-',\n",
       " '6',\n",
       " '+',\n",
       " '7',\n",
       " '+',\n",
       " '8']"
      ]
     },
     "execution_count": 5,
     "metadata": {},
     "output_type": "execute_result"
    }
   ],
   "source": [
    "import time\n",
    "create_file(L = [\"-1\",\"-2\",\"3\",\"4\",\"5\",\"6\",\"7\",\"8\"],nbr_population = 100, nbr_iteration = 4)\n",
    "run_genetic_algorithm()"
   ]
  },
  {
   "cell_type": "code",
   "execution_count": null,
   "metadata": {},
   "outputs": [],
   "source": []
  }
 ],
 "metadata": {
  "kernelspec": {
   "display_name": "Python 3.10.7 64-bit",
   "language": "python",
   "name": "python3"
  },
  "language_info": {
   "codemirror_mode": {
    "name": "ipython",
    "version": 3
   },
   "file_extension": ".py",
   "mimetype": "text/x-python",
   "name": "python",
   "nbconvert_exporter": "python",
   "pygments_lexer": "ipython3",
   "version": "3.10.7"
  },
  "orig_nbformat": 4,
  "vscode": {
   "interpreter": {
    "hash": "e7370f93d1d0cde622a1f8e1c04877d8463912d04d973331ad4851f04de6915a"
   }
  }
 },
 "nbformat": 4,
 "nbformat_minor": 2
}
